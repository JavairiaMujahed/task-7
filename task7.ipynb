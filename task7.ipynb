{
  "nbformat": 4,
  "nbformat_minor": 0,
  "metadata": {
    "colab": {
      "provenance": [],
      "authorship_tag": "ABX9TyN4eFbuAwY9iqUWu4bBUF7V",
      "include_colab_link": true
    },
    "kernelspec": {
      "name": "python3",
      "display_name": "Python 3"
    },
    "language_info": {
      "name": "python"
    }
  },
  "cells": [
    {
      "cell_type": "markdown",
      "metadata": {
        "id": "view-in-github",
        "colab_type": "text"
      },
      "source": [
        "<a href=\"https://colab.research.google.com/github/JavairiaMujahed/task-7/blob/main/task7.ipynb\" target=\"_parent\"><img src=\"https://colab.research.google.com/assets/colab-badge.svg\" alt=\"Open In Colab\"/></a>"
      ]
    },
    {
      "cell_type": "code",
      "execution_count": 1,
      "metadata": {
        "id": "4aMi0QA2KOef"
      },
      "outputs": [],
      "source": [
        "import sqlite3"
      ]
    },
    {
      "cell_type": "code",
      "source": [
        "connection = sqlite3.connect('sales_data.db', uri=True)"
      ],
      "metadata": {
        "id": "jHRe2-mEKxBJ"
      },
      "execution_count": 2,
      "outputs": []
    },
    {
      "cell_type": "code",
      "source": [
        "crsr = connection.cursor()"
      ],
      "metadata": {
        "id": "JVpjGgPuKyYk"
      },
      "execution_count": 3,
      "outputs": []
    },
    {
      "cell_type": "code",
      "source": [
        "print(\"Connected to the database\")"
      ],
      "metadata": {
        "id": "Reh5FgE1Kyvx"
      },
      "execution_count": null,
      "outputs": []
    },
    {
      "cell_type": "code",
      "source": [
        "# SQL command to create a table in the database\n",
        "sql_command = \"\"\"CREATE TABLE sales (\n",
        "transaction_id INTEGER PRIMARY KEY,\n",
        "sale_date DATE,\n",
        "product_category VARCHAR(30),\n",
        "product_name VARCHAR(30),\n",
        "units_sold INTEGER,\n",
        "unit_price FLOAT,\n",
        "total_revenue FLOAT,\n",
        "region VARCHAR(30),\n",
        "payment_method VARCHAR(30));\"\"\"\n",
        "\n",
        "# execute the statement\n",
        "crsr.execute(sql_command)"
      ],
      "metadata": {
        "colab": {
          "base_uri": "https://localhost:8080/"
        },
        "id": "op2tFvOBK33T",
        "outputId": "31647525-991e-4929-f428-237fc875b0fe"
      },
      "execution_count": 4,
      "outputs": [
        {
          "output_type": "execute_result",
          "data": {
            "text/plain": [
              "<sqlite3.Cursor at 0x7df9ba849840>"
            ]
          },
          "metadata": {},
          "execution_count": 4
        }
      ]
    },
    {
      "cell_type": "code",
      "source": [
        "# Fetch and print the names of existing tables\n",
        "crsr.execute(\"SELECT name FROM sqlite_master WHERE type='table';\")\n",
        "tables = crsr.fetchall()\n",
        "print(tables)"
      ],
      "metadata": {
        "colab": {
          "base_uri": "https://localhost:8080/"
        },
        "id": "j2NRJjbwK9C_",
        "outputId": "f343a8bd-40cf-4a17-a322-f433ca57e259"
      },
      "execution_count": 5,
      "outputs": [
        {
          "output_type": "stream",
          "name": "stdout",
          "text": [
            "[('sales',)]\n"
          ]
        }
      ]
    },
    {
      "cell_type": "code",
      "source": [
        "# SQL command to insert the data in the table\n",
        "sql_command = \"\"\"INSERT INTO sales VALUES (101, '2024-01-01', 'Electronics', 'iPhone 14 Pro', 2, 999.99, 1999.98, 'North America', 'Credit Card');\"\"\"\n",
        "crsr.execute(sql_command)\n",
        "sql_command = \"\"\"INSERT INTO sales VALUES (102, '2024-01-02', 'Home Appliances', 'Dyson v11 Vacuum', 1, 499.99, 499.99, 'Europe', 'PayPal');\"\"\"\n",
        "crsr.execute(sql_command)\n",
        "sql_command = \"\"\"INSERT INTO sales VALUES (103,'2024-01-03','Clothing', 'Levi501 Jeans' ,3,69.99,209.97,'Asia','Debit Card');\"\"\"\n",
        "crsr.execute(sql_command)\n",
        "sql_command = \"\"\"INSERT INTO sales VALUES (104,'2024-01-04','Books','The Da Vinci Code',4,15.99,63.96,'North America','Credit Card');\"\"\"\n",
        "crsr.execute(sql_command)\n",
        "sql_command = \"\"\"INSERT INTO sales VALUES (105,'2024-01-05','Beauty Products','Neutrogena Skincare Set',1,89.99,89.99,'Europe','PayPal');\"\"\"\n",
        "crsr.execute(sql_command)\n",
        "sql_command = \"\"\"INSERT INTO sales VALUES (106,'2024-01-06','Sports','Wilson Evolution Basketball',5,29.99,149.95,'Asia','Credit Card');\"\"\"\n",
        "crsr.execute(sql_command)\n",
        "sql_command = \"\"\"INSERT INTO sales VALUES (107,'2024-01-07','Electronics','MacBook Pro 16-inch',1,2499.99,2499.99,'North America','Credit Card');\"\"\"\n",
        "crsr.execute(sql_command)\n",
        "sql_command = \"\"\"INSERT INTO sales VALUES (108,'2024-01-08','Home Appliances','Blueair Classic 480i',2,599.99,1199.98,'Europe','PayPal');\"\"\"\n",
        "crsr.execute(sql_command)\n",
        "sql_command = \"\"\"INSERT INTO sales VALUES (109,'2024-01-09','Clothing','Nike Air Force 1',6,89.99,539.94,'Asia','Debit Card');\"\"\"\n",
        "crsr.execute(sql_command)\n",
        "sql_command = \"\"\"INSERT INTO sales VALUES (110,'2024-01-10','Books','Dune by Frank Herbert',2,25.99,51.98,'North America','Credit Card');\"\"\"\n",
        "crsr.execute(sql_command)\n",
        "sql_command = \"\"\"INSERT INTO sales VALUES (111,'2024-01-11','Beauty Products','Chanel No. 5 Perfume',1,129.99,129.99,'Europe','PayPal');\"\"\"\n",
        "crsr.execute(sql_command)\n",
        "sql_command = \"\"\"INSERT INTO sales VALUES (112,'2024-01-12','Sports','Babolat Pure Drive Tennis Racket',3,199.99,599.97,'Asia','Credit Card');\"\"\"\n",
        "crsr.execute(sql_command)\n",
        "sql_command = \"\"\"INSERT INTO sales VALUES (113,'2024-01-13','Electronics','Samsung Galaxy Tab S8',2,749.99,1499.98,'North America','Credit Card');\"\"\"\n",
        "crsr.execute(sql_command)\n",
        "sql_command = \"\"\"INSERT INTO sales VALUES (114,'2024-01-14','Home Appliances','Keurig K-Elite Coffee Maker',1,189.99,189.99,'Europe','PayPal');\"\"\"\n",
        "crsr.execute(sql_command)\n",
        "sql_command = \"\"\"INSERT INTO sales VALUES (115,'2024-01-15','Clothing','North Face Down Jacket',2,249.99,499.98,'Asia','Debit Card');\"\"\"\n",
        "crsr.execute(sql_command)\n",
        "sql_command = \"\"\"INSERT INTO sales VALUES (116,'2024-01-16','Books','Salt, Fat, Acid, Heat by Samin Nosrat',3,35.99,107.97,'North America','Credit Card');\"\"\"\n",
        "crsr.execute(sql_command)\n",
        "sql_command = \"\"\"INSERT INTO sales VALUES (117,'2024-01-17','Beauty Products','Dyson Supersonic Hair Dryer',1,399.99,399.99,'Europe','PayPal');\"\"\"\n",
        "crsr.execute(sql_command)\n",
        "sql_command = \"\"\"INSERT INTO sales VALUES (118,'2024-01-18','Sports','Manduka PRO Yoga Mat',4,119.99,479.96,'Asia','Credit Card');\"\"\"\n",
        "crsr.execute(sql_command)\n",
        "sql_command = \"\"\"INSERT INTO sales VALUES (119,'2024-01-19','Electronics','Garmin Forerunner 945',2,499.99,999.98,'North America','Credit Card');\"\"\"\n",
        "crsr.execute(sql_command)\n",
        "sql_command = \"\"\"INSERT INTO sales VALUES (120,'2024-01-20','Home Appliances','Ninja Professional Blender',1,99.99,99.99,'Europe','PayPal');\"\"\"\n",
        "crsr.execute(sql_command)\n",
        "sql_command = \"\"\"INSERT INTO sales VALUES (121,'2024-01-21','Clothing','Zara Summer Dress',3,59.99,179.97,'Asia','Debit Card');\"\"\"\n",
        "crsr.execute(sql_command)\n",
        "sql_command = \"\"\"INSERT INTO sales VALUES (122,'2024-01-22','Books','Gone Girl by Gillian Flynn',2,22.99,45.98,'North America','Credit Card');\"\"\"\n",
        "crsr.execute(sql_command)\n",
        "sql_command = \"\"\"INSERT INTO sales VALUES (123,'2024-01-23','Beauty Products','Olay Regenerist Face Cream',1,49.99,49.99,'Europe','PayPal');\"\"\"\n",
        "crsr.execute(sql_command)\n",
        "sql_command = \"\"\"INSERT INTO sales VALUES (124,'2024-01-24','Sports','Adidas FIFA World Cup Football',3,29.99,89.97,'Asia','Credit Card');\"\"\"\n",
        "crsr.execute(sql_command)\n",
        "sql_command = \"\"\"INSERT INTO sales VALUES (125,'2024-01-25','Electronics','Bose QuietComfort 35 Headphones',1,299.99,299.99,'North America','Credit Card');\"\"\"\n",
        "crsr.execute(sql_command)\n",
        "sql_command = \"\"\"INSERT INTO sales VALUES (126,'2024-01-26','Home Appliances','Panasonic NN-SN966S Microwave',1,179.99,179.99,'Europe','PayPal');\"\"\"\n",
        "crsr.execute(sql_command)\n",
        "sql_command = \"\"\"INSERT INTO sales VALUES (127,'2024-01-27','Clothing','Adidas Ultraboost Shoes',2,179.99,359.98,'Asia','Debit Card');\"\"\"\n",
        "crsr.execute(sql_command)\n",
        "sql_command = \"\"\"INSERT INTO sales VALUES (128,'2024-01-28','Books','Pride and Prejudice by Jane Austen',3,12.99,38.97,'North America','Credit Card');\"\"\"\n",
        "crsr.execute(sql_command)\n",
        "sql_command = \"\"\"INSERT INTO sales VALUES (129,'2024-01-29','Beauty Products','MAC Ruby Woo Lipstick',1,29.99,29.99,'Europe','PayPal');\"\"\"\n",
        "crsr.execute(sql_command)\n",
        "sql_command = \"\"\"INSERT INTO sales VALUES (130,'2024-01-30','Sports','Nike Air Zoom Pegasus 37',2,129.99,259.98,'Asia','Credit Card');\"\"\"\n",
        "\n",
        "crsr.execute(sql_command)\n",
        "connection.commit()"
      ],
      "metadata": {
        "id": "g6JLTaayLKYJ"
      },
      "execution_count": 8,
      "outputs": []
    },
    {
      "cell_type": "code",
      "source": [
        "# execute the command to fetch all the data from the table emp\n",
        "crsr.execute(\"SELECT * FROM sales\")\n",
        "\n",
        "# store all the fetched data in the ans variable\n",
        "ans = crsr.fetchall()\n",
        "\n",
        "# Since we have already selected all the data entries\n",
        "# using the \"SELECT *\" SQL command and stored them in\n",
        "# the ans variable, all we need to do now is to print\n",
        "# out the ans variable\n",
        "for i in ans:\n",
        "    print(i)"
      ],
      "metadata": {
        "colab": {
          "base_uri": "https://localhost:8080/"
        },
        "id": "FhBJ3hktMrOO",
        "outputId": "cefe9f6e-59bd-4158-a19c-ce8222cfdbf3"
      },
      "execution_count": 9,
      "outputs": [
        {
          "output_type": "stream",
          "name": "stdout",
          "text": [
            "(101, '2024-01-01', 'Electronics', 'iPhone 14 Pro', 2, 999.99, 1999.98, 'North America', 'Credit Card')\n",
            "(102, '2024-01-02', 'Home Appliances', 'Dyson v11 Vacuum', 1, 499.99, 499.99, 'Europe', 'PayPal')\n",
            "(103, '2024-01-03', 'Clothing', 'Levi501 Jeans', 3, 69.99, 209.97, 'Asia', 'Debit Card')\n",
            "(104, '2024-01-04', 'Books', 'The Da Vinci Code', 4, 15.99, 63.96, 'North America', 'Credit Card')\n",
            "(105, '2024-01-05', 'Beauty Products', 'Neutrogena Skincare Set', 1, 89.99, 89.99, 'Europe', 'PayPal')\n",
            "(106, '2024-01-06', 'Sports', 'Wilson Evolution Basketball', 5, 29.99, 149.95, 'Asia', 'Credit Card')\n",
            "(107, '2024-01-07', 'Electronics', 'MacBook Pro 16-inch', 1, 2499.99, 2499.99, 'North America', 'Credit Card')\n",
            "(108, '2024-01-08', 'Home Appliances', 'Blueair Classic 480i', 2, 599.99, 1199.98, 'Europe', 'PayPal')\n",
            "(109, '2024-01-09', 'Clothing', 'Nike Air Force 1', 6, 89.99, 539.94, 'Asia', 'Debit Card')\n",
            "(110, '2024-01-10', 'Books', 'Dune by Frank Herbert', 2, 25.99, 51.98, 'North America', 'Credit Card')\n",
            "(111, '2024-01-11', 'Beauty Products', 'Chanel No. 5 Perfume', 1, 129.99, 129.99, 'Europe', 'PayPal')\n",
            "(112, '2024-01-12', 'Sports', 'Babolat Pure Drive Tennis Racket', 3, 199.99, 599.97, 'Asia', 'Credit Card')\n",
            "(113, '2024-01-13', 'Electronics', 'Samsung Galaxy Tab S8', 2, 749.99, 1499.98, 'North America', 'Credit Card')\n",
            "(114, '2024-01-14', 'Home Appliances', 'Keurig K-Elite Coffee Maker', 1, 189.99, 189.99, 'Europe', 'PayPal')\n",
            "(115, '2024-01-15', 'Clothing', 'North Face Down Jacket', 2, 249.99, 499.98, 'Asia', 'Debit Card')\n",
            "(116, '2024-01-16', 'Books', 'Salt, Fat, Acid, Heat by Samin Nosrat', 3, 35.99, 107.97, 'North America', 'Credit Card')\n",
            "(117, '2024-01-17', 'Beauty Products', 'Dyson Supersonic Hair Dryer', 1, 399.99, 399.99, 'Europe', 'PayPal')\n",
            "(118, '2024-01-18', 'Sports', 'Manduka PRO Yoga Mat', 4, 119.99, 479.96, 'Asia', 'Credit Card')\n",
            "(119, '2024-01-19', 'Electronics', 'Garmin Forerunner 945', 2, 499.99, 999.98, 'North America', 'Credit Card')\n",
            "(120, '2024-01-20', 'Home Appliances', 'Ninja Professional Blender', 1, 99.99, 99.99, 'Europe', 'PayPal')\n",
            "(121, '2024-01-21', 'Clothing', 'Zara Summer Dress', 3, 59.99, 179.97, 'Asia', 'Debit Card')\n",
            "(122, '2024-01-22', 'Books', 'Gone Girl by Gillian Flynn', 2, 22.99, 45.98, 'North America', 'Credit Card')\n",
            "(123, '2024-01-23', 'Beauty Products', 'Olay Regenerist Face Cream', 1, 49.99, 49.99, 'Europe', 'PayPal')\n",
            "(124, '2024-01-24', 'Sports', 'Adidas FIFA World Cup Football', 3, 29.99, 89.97, 'Asia', 'Credit Card')\n",
            "(125, '2024-01-25', 'Electronics', 'Bose QuietComfort 35 Headphones', 1, 299.99, 299.99, 'North America', 'Credit Card')\n",
            "(126, '2024-01-26', 'Home Appliances', 'Panasonic NN-SN966S Microwave', 1, 179.99, 179.99, 'Europe', 'PayPal')\n",
            "(127, '2024-01-27', 'Clothing', 'Adidas Ultraboost Shoes', 2, 179.99, 359.98, 'Asia', 'Debit Card')\n",
            "(128, '2024-01-28', 'Books', 'Pride and Prejudice by Jane Austen', 3, 12.99, 38.97, 'North America', 'Credit Card')\n",
            "(129, '2024-01-29', 'Beauty Products', 'MAC Ruby Woo Lipstick', 1, 29.99, 29.99, 'Europe', 'PayPal')\n",
            "(130, '2024-01-30', 'Sports', 'Nike Air Zoom Pegasus 37', 2, 129.99, 259.98, 'Asia', 'Credit Card')\n",
            "(1001, '2024-01-01', 'Electronics', 'iPhone 14 Pro', 2, 999.99, 1999.98, 'North America', 'Credit Card')\n",
            "(1002, '2024-01-02', 'Home Appliances', 'Dyson v11 Vacuum', 1, 499.99, 499.99, 'Europe', 'PayPal')\n"
          ]
        }
      ]
    },
    {
      "cell_type": "code",
      "source": [
        "# Updating\n",
        "crsr.execute('''DELETE FROM sales WHERE transaction_id=\"1001\";''')\n",
        "crsr.execute('''DELETE FROM sales WHERE transaction_id=\"1002\";''')\n",
        "\n",
        "# Commit your changes in the database\n",
        "connection.commit()"
      ],
      "metadata": {
        "id": "aDZ_pvcjM2Hr"
      },
      "execution_count": 11,
      "outputs": []
    },
    {
      "cell_type": "code",
      "source": [
        "# execute the command to fetch all the data from the table emp\n",
        "crsr.execute(\"SELECT * FROM sales\")\n",
        "\n",
        "# store all the fetched data in the ans variable\n",
        "ans = crsr.fetchall()\n",
        "\n",
        "# Since we have already selected all the data entries\n",
        "# using the \"SELECT *\" SQL command and stored them in\n",
        "# the ans variable, all we need to do now is to print\n",
        "# out the ans variable\n",
        "for i in ans:\n",
        "    print(i)"
      ],
      "metadata": {
        "colab": {
          "base_uri": "https://localhost:8080/"
        },
        "id": "UH-kt1bUNKtg",
        "outputId": "790c62b3-e6fb-4d48-b891-f202cc1492b3"
      },
      "execution_count": 12,
      "outputs": [
        {
          "output_type": "stream",
          "name": "stdout",
          "text": [
            "(101, '2024-01-01', 'Electronics', 'iPhone 14 Pro', 2, 999.99, 1999.98, 'North America', 'Credit Card')\n",
            "(102, '2024-01-02', 'Home Appliances', 'Dyson v11 Vacuum', 1, 499.99, 499.99, 'Europe', 'PayPal')\n",
            "(103, '2024-01-03', 'Clothing', 'Levi501 Jeans', 3, 69.99, 209.97, 'Asia', 'Debit Card')\n",
            "(104, '2024-01-04', 'Books', 'The Da Vinci Code', 4, 15.99, 63.96, 'North America', 'Credit Card')\n",
            "(105, '2024-01-05', 'Beauty Products', 'Neutrogena Skincare Set', 1, 89.99, 89.99, 'Europe', 'PayPal')\n",
            "(106, '2024-01-06', 'Sports', 'Wilson Evolution Basketball', 5, 29.99, 149.95, 'Asia', 'Credit Card')\n",
            "(107, '2024-01-07', 'Electronics', 'MacBook Pro 16-inch', 1, 2499.99, 2499.99, 'North America', 'Credit Card')\n",
            "(108, '2024-01-08', 'Home Appliances', 'Blueair Classic 480i', 2, 599.99, 1199.98, 'Europe', 'PayPal')\n",
            "(109, '2024-01-09', 'Clothing', 'Nike Air Force 1', 6, 89.99, 539.94, 'Asia', 'Debit Card')\n",
            "(110, '2024-01-10', 'Books', 'Dune by Frank Herbert', 2, 25.99, 51.98, 'North America', 'Credit Card')\n",
            "(111, '2024-01-11', 'Beauty Products', 'Chanel No. 5 Perfume', 1, 129.99, 129.99, 'Europe', 'PayPal')\n",
            "(112, '2024-01-12', 'Sports', 'Babolat Pure Drive Tennis Racket', 3, 199.99, 599.97, 'Asia', 'Credit Card')\n",
            "(113, '2024-01-13', 'Electronics', 'Samsung Galaxy Tab S8', 2, 749.99, 1499.98, 'North America', 'Credit Card')\n",
            "(114, '2024-01-14', 'Home Appliances', 'Keurig K-Elite Coffee Maker', 1, 189.99, 189.99, 'Europe', 'PayPal')\n",
            "(115, '2024-01-15', 'Clothing', 'North Face Down Jacket', 2, 249.99, 499.98, 'Asia', 'Debit Card')\n",
            "(116, '2024-01-16', 'Books', 'Salt, Fat, Acid, Heat by Samin Nosrat', 3, 35.99, 107.97, 'North America', 'Credit Card')\n",
            "(117, '2024-01-17', 'Beauty Products', 'Dyson Supersonic Hair Dryer', 1, 399.99, 399.99, 'Europe', 'PayPal')\n",
            "(118, '2024-01-18', 'Sports', 'Manduka PRO Yoga Mat', 4, 119.99, 479.96, 'Asia', 'Credit Card')\n",
            "(119, '2024-01-19', 'Electronics', 'Garmin Forerunner 945', 2, 499.99, 999.98, 'North America', 'Credit Card')\n",
            "(120, '2024-01-20', 'Home Appliances', 'Ninja Professional Blender', 1, 99.99, 99.99, 'Europe', 'PayPal')\n",
            "(121, '2024-01-21', 'Clothing', 'Zara Summer Dress', 3, 59.99, 179.97, 'Asia', 'Debit Card')\n",
            "(122, '2024-01-22', 'Books', 'Gone Girl by Gillian Flynn', 2, 22.99, 45.98, 'North America', 'Credit Card')\n",
            "(123, '2024-01-23', 'Beauty Products', 'Olay Regenerist Face Cream', 1, 49.99, 49.99, 'Europe', 'PayPal')\n",
            "(124, '2024-01-24', 'Sports', 'Adidas FIFA World Cup Football', 3, 29.99, 89.97, 'Asia', 'Credit Card')\n",
            "(125, '2024-01-25', 'Electronics', 'Bose QuietComfort 35 Headphones', 1, 299.99, 299.99, 'North America', 'Credit Card')\n",
            "(126, '2024-01-26', 'Home Appliances', 'Panasonic NN-SN966S Microwave', 1, 179.99, 179.99, 'Europe', 'PayPal')\n",
            "(127, '2024-01-27', 'Clothing', 'Adidas Ultraboost Shoes', 2, 179.99, 359.98, 'Asia', 'Debit Card')\n",
            "(128, '2024-01-28', 'Books', 'Pride and Prejudice by Jane Austen', 3, 12.99, 38.97, 'North America', 'Credit Card')\n",
            "(129, '2024-01-29', 'Beauty Products', 'MAC Ruby Woo Lipstick', 1, 29.99, 29.99, 'Europe', 'PayPal')\n",
            "(130, '2024-01-30', 'Sports', 'Nike Air Zoom Pegasus 37', 2, 129.99, 259.98, 'Asia', 'Credit Card')\n"
          ]
        }
      ]
    },
    {
      "cell_type": "code",
      "source": [
        "# Close the database connection\n",
        "connection.close()"
      ],
      "metadata": {
        "id": "47yqnJJLNwCB"
      },
      "execution_count": 14,
      "outputs": []
    },
    {
      "cell_type": "code",
      "source": [
        "import sqlite3\n",
        "import pandas as pd\n",
        "\n",
        "# Connect to the SQLite database\n",
        "connection = sqlite3.connect('sales_data.db')\n",
        "\n",
        "# Execute a SELECT query\n",
        "query = ('SELECT product_name, SUM(units_sold) AS total_units_sold, SUM(units_sold*unit_price) AS revenue FROM sales GROUP BY product_name ORDER BY revenue DESC;')\n",
        "results = pd.read_sql_query(query,connection)\n",
        "\n",
        "# Print the results\n",
        "print(results)\n",
        "\n",
        "# Close the database connection\n",
        "connection.close()"
      ],
      "metadata": {
        "colab": {
          "base_uri": "https://localhost:8080/"
        },
        "id": "3VNF8SkHN8hM",
        "outputId": "ebf46d59-2039-476c-9ed0-5a60890b0136"
      },
      "execution_count": 18,
      "outputs": [
        {
          "output_type": "stream",
          "name": "stdout",
          "text": [
            "                             product_name  total_units_sold  revenue\n",
            "0                     MacBook Pro 16-inch                 1  2499.99\n",
            "1                           iPhone 14 Pro                 2  1999.98\n",
            "2                   Samsung Galaxy Tab S8                 2  1499.98\n",
            "3                    Blueair Classic 480i                 2  1199.98\n",
            "4                   Garmin Forerunner 945                 2   999.98\n",
            "5        Babolat Pure Drive Tennis Racket                 3   599.97\n",
            "6                        Nike Air Force 1                 6   539.94\n",
            "7                        Dyson v11 Vacuum                 1   499.99\n",
            "8                  North Face Down Jacket                 2   499.98\n",
            "9                    Manduka PRO Yoga Mat                 4   479.96\n",
            "10            Dyson Supersonic Hair Dryer                 1   399.99\n",
            "11                Adidas Ultraboost Shoes                 2   359.98\n",
            "12        Bose QuietComfort 35 Headphones                 1   299.99\n",
            "13               Nike Air Zoom Pegasus 37                 2   259.98\n",
            "14                          Levi501 Jeans                 3   209.97\n",
            "15            Keurig K-Elite Coffee Maker                 1   189.99\n",
            "16          Panasonic NN-SN966S Microwave                 1   179.99\n",
            "17                      Zara Summer Dress                 3   179.97\n",
            "18            Wilson Evolution Basketball                 5   149.95\n",
            "19                   Chanel No. 5 Perfume                 1   129.99\n",
            "20  Salt, Fat, Acid, Heat by Samin Nosrat                 3   107.97\n",
            "21             Ninja Professional Blender                 1    99.99\n",
            "22                Neutrogena Skincare Set                 1    89.99\n",
            "23         Adidas FIFA World Cup Football                 3    89.97\n",
            "24                      The Da Vinci Code                 4    63.96\n",
            "25                  Dune by Frank Herbert                 2    51.98\n",
            "26             Olay Regenerist Face Cream                 1    49.99\n",
            "27             Gone Girl by Gillian Flynn                 2    45.98\n",
            "28     Pride and Prejudice by Jane Austen                 3    38.97\n",
            "29                  MAC Ruby Woo Lipstick                 1    29.99\n"
          ]
        }
      ]
    },
    {
      "cell_type": "code",
      "source": [
        "import sqlite3\n",
        "import pandas as pd\n",
        "\n",
        "# Connect to the SQLite database\n",
        "connection = sqlite3.connect('sales_data.db')\n",
        "\n",
        "# Execute a SELECT query\n",
        "query = ('SELECT product_category, SUM(units_sold) AS total_units_sold, SUM(units_sold*unit_price) AS revenue FROM sales GROUP BY product_category ORDER BY total_units_sold DESC;')\n",
        "results = pd.read_sql_query(query,connection)\n",
        "\n",
        "# Print the results\n",
        "print(results)\n",
        "\n",
        "# Close the database connection\n",
        "connection.close()"
      ],
      "metadata": {
        "colab": {
          "base_uri": "https://localhost:8080/"
        },
        "id": "SrDIEHvhQKez",
        "outputId": "851b4256-9ff5-4215-d567-a1f876646fea"
      },
      "execution_count": 20,
      "outputs": [
        {
          "output_type": "stream",
          "name": "stdout",
          "text": [
            "  product_category  total_units_sold  revenue\n",
            "0           Sports                17  1579.83\n",
            "1         Clothing                16  1789.84\n",
            "2            Books                14   308.86\n",
            "3      Electronics                 8  7299.92\n",
            "4  Home Appliances                 6  2169.94\n",
            "5  Beauty Products                 5   699.95\n"
          ]
        }
      ]
    },
    {
      "cell_type": "code",
      "source": [
        "import sqlite3\n",
        "import pandas as pd\n",
        "\n",
        "# Connect to the SQLite database\n",
        "connection = sqlite3.connect('sales_data.db')\n",
        "\n",
        "# Execute a SELECT query\n",
        "query = ('SELECT product_category, SUM(units_sold) AS total_units_sold, SUM(units_sold*unit_price) AS revenue FROM sales GROUP BY product_category ORDER BY revenue DESC;')\n",
        "results = pd.read_sql_query(query,connection)\n",
        "\n",
        "# Print the results\n",
        "print(results)\n",
        "\n",
        "# Close the database connection\n",
        "connection.close()"
      ],
      "metadata": {
        "colab": {
          "base_uri": "https://localhost:8080/"
        },
        "id": "GwzFS-cvQX43",
        "outputId": "84fc5450-25ae-499e-8f51-edd4d447c5bd"
      },
      "execution_count": 21,
      "outputs": [
        {
          "output_type": "stream",
          "name": "stdout",
          "text": [
            "  product_category  total_units_sold  revenue\n",
            "0      Electronics                 8  7299.92\n",
            "1  Home Appliances                 6  2169.94\n",
            "2         Clothing                16  1789.84\n",
            "3           Sports                17  1579.83\n",
            "4  Beauty Products                 5   699.95\n",
            "5            Books                14   308.86\n"
          ]
        }
      ]
    },
    {
      "source": [
        "import sqlite3\n",
        "import pandas as pd\n",
        "import matplotlib.pyplot as plt # import the pyplot module and alias it as plt\n",
        "\n",
        "# Connect to the SQLite database\n",
        "connection = sqlite3.connect('sales_data.db')\n",
        "\n",
        "# Execute a SELECT query\n",
        "query = ('SELECT product_category, SUM(units_sold) AS total_units_sold, SUM(units_sold*unit_price) AS revenue FROM sales GROUP BY product_category ORDER BY revenue DESC;')\n",
        "results = pd.read_sql_query(query,connection)\n",
        "\n",
        "# Print the results\n",
        "print(results)\n",
        "\n",
        "import pandas as pd\n",
        "df = pd.read_sql_query(query, connection)\n",
        "print(df)\n",
        "df.plot(kind='bar', x='product_category', y='revenue')\n",
        "plt.savefig(\"sales_chart.png\") # Use plt.savefig to save the figure\n",
        "\n",
        "# Close the database connection\n",
        "connection.close()"
      ],
      "cell_type": "code",
      "metadata": {
        "colab": {
          "base_uri": "https://localhost:8080/",
          "height": 799
        },
        "id": "XJNcOV6bRlPh",
        "outputId": "9d6e56a5-6aed-4977-9a1a-bf1c7e737f60"
      },
      "execution_count": 27,
      "outputs": [
        {
          "output_type": "stream",
          "name": "stdout",
          "text": [
            "  product_category  total_units_sold  revenue\n",
            "0      Electronics                 8  7299.92\n",
            "1  Home Appliances                 6  2169.94\n",
            "2         Clothing                16  1789.84\n",
            "3           Sports                17  1579.83\n",
            "4  Beauty Products                 5   699.95\n",
            "5            Books                14   308.86\n",
            "  product_category  total_units_sold  revenue\n",
            "0      Electronics                 8  7299.92\n",
            "1  Home Appliances                 6  2169.94\n",
            "2         Clothing                16  1789.84\n",
            "3           Sports                17  1579.83\n",
            "4  Beauty Products                 5   699.95\n",
            "5            Books                14   308.86\n"
          ]
        },
        {
          "output_type": "display_data",
          "data": {
            "text/plain": [
              "<Figure size 640x480 with 1 Axes>"
            ],
            "image/png": "[encoded data removed]"
          },
          "metadata": {}
        }
      ]
    },
    {
      "cell_type": "code",
      "source": [],
      "metadata": {
        "id": "LMVOtrl0SExI"
      },
      "execution_count": null,
      "outputs": []
    }
  ]
}